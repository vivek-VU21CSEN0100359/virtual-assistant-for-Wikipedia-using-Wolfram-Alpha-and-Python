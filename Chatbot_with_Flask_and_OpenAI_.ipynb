{
  "cells": [
    {
      "cell_type": "markdown",
      "metadata": {
        "id": "view-in-github",
        "colab_type": "text"
      },
      "source": [
        "<a href=\"https://colab.research.google.com/github/vivek-VU21CSEN0100359/virtual-assistant-for-Wikipedia-using-Wolfram-Alpha-and-Python/blob/main/Chatbot_with_Flask_and_OpenAI_.ipynb\" target=\"_parent\"><img src=\"https://colab.research.google.com/assets/colab-badge.svg\" alt=\"Open In Colab\"/></a>"
      ]
    },
    {
      "cell_type": "code",
      "source": [
        "# Install Git if it's not already installed\n",
        "!apt-get install git\n",
        "\n",
        "# Clone the repository (replace with your GitHub repository URL)\n",
        "!git clone https://github.com/vivek-VU21CSEN0100359/virtual-assistant-for-Wikipedia-using-Wolfram-Alpha-and-Python\n",
        "\n",
        "# Navigate into the cloned repository folder\n",
        "%cd OctaNet\n",
        "\n",
        "# List the files to verify successful cloning\n",
        "!ls"
      ],
      "metadata": {
        "colab": {
          "base_uri": "https://localhost:8080/"
        },
        "id": "2gN4D2Gsji_9",
        "outputId": "d120867f-0ac9-48cb-86e0-2933ddece830"
      },
      "execution_count": 16,
      "outputs": [
        {
          "output_type": "stream",
          "name": "stdout",
          "text": [
            "Reading package lists... Done\n",
            "Building dependency tree... Done\n",
            "Reading state information... Done\n",
            "git is already the newest version (1:2.34.1-1ubuntu1.11).\n",
            "0 upgraded, 0 newly installed, 0 to remove and 49 not upgraded.\n",
            "Cloning into 'virtual-assistant-for-Wikipedia-using-Wolfram-Alpha-and-Python'...\n",
            "remote: Enumerating objects: 3, done.\u001b[K\n",
            "remote: Counting objects: 100% (3/3), done.\u001b[K\n",
            "remote: Compressing objects: 100% (2/2), done.\u001b[K\n",
            "remote: Total 3 (delta 0), reused 0 (delta 0), pack-reused 0 (from 0)\u001b[K\n",
            "Receiving objects: 100% (3/3), done.\n",
            "[Errno 2] No such file or directory: 'OctaNet'\n",
            "/content\n",
            "sample_data  virtual-assistant-for-Wikipedia-using-Wolfram-Alpha-and-Python\n"
          ]
        }
      ]
    },
    {
      "cell_type": "code",
      "source": [
        "!pip install requests wikipedia-api\n"
      ],
      "metadata": {
        "colab": {
          "base_uri": "https://localhost:8080/"
        },
        "id": "zdBVSwRKdG5x",
        "outputId": "75ae28c5-db62-42f7-946c-83a95ae6ed45"
      },
      "execution_count": 1,
      "outputs": [
        {
          "output_type": "stream",
          "name": "stdout",
          "text": [
            "Requirement already satisfied: requests in /usr/local/lib/python3.10/dist-packages (2.32.3)\n",
            "Collecting wikipedia-api\n",
            "  Downloading wikipedia_api-0.7.1.tar.gz (17 kB)\n",
            "  Preparing metadata (setup.py) ... \u001b[?25l\u001b[?25hdone\n",
            "Requirement already satisfied: charset-normalizer<4,>=2 in /usr/local/lib/python3.10/dist-packages (from requests) (3.4.0)\n",
            "Requirement already satisfied: idna<4,>=2.5 in /usr/local/lib/python3.10/dist-packages (from requests) (3.10)\n",
            "Requirement already satisfied: urllib3<3,>=1.21.1 in /usr/local/lib/python3.10/dist-packages (from requests) (2.2.3)\n",
            "Requirement already satisfied: certifi>=2017.4.17 in /usr/local/lib/python3.10/dist-packages (from requests) (2024.8.30)\n",
            "Building wheels for collected packages: wikipedia-api\n",
            "  Building wheel for wikipedia-api (setup.py) ... \u001b[?25l\u001b[?25hdone\n",
            "  Created wheel for wikipedia-api: filename=Wikipedia_API-0.7.1-py3-none-any.whl size=14346 sha256=4dc5219180c86b126f21ee3eb3e0661f11a1ad1f1aba14190f527adc6693882b\n",
            "  Stored in directory: /root/.cache/pip/wheels/4c/96/18/b9201cc3e8b47b02b510460210cfd832ccf10c0c4dd0522962\n",
            "Successfully built wikipedia-api\n",
            "Installing collected packages: wikipedia-api\n",
            "Successfully installed wikipedia-api-0.7.1\n"
          ]
        }
      ]
    },
    {
      "cell_type": "code",
      "source": [
        "pip install requests wikipedia-api"
      ],
      "metadata": {
        "colab": {
          "base_uri": "https://localhost:8080/"
        },
        "id": "IikTw3AMefqp",
        "outputId": "1828e4f4-3f8a-4fc0-c231-64f3b48488e4"
      },
      "execution_count": 5,
      "outputs": [
        {
          "output_type": "stream",
          "name": "stdout",
          "text": [
            "Requirement already satisfied: requests in /usr/local/lib/python3.10/dist-packages (2.32.3)\n",
            "Requirement already satisfied: wikipedia-api in /usr/local/lib/python3.10/dist-packages (0.7.1)\n",
            "Requirement already satisfied: charset-normalizer<4,>=2 in /usr/local/lib/python3.10/dist-packages (from requests) (3.4.0)\n",
            "Requirement already satisfied: idna<4,>=2.5 in /usr/local/lib/python3.10/dist-packages (from requests) (3.10)\n",
            "Requirement already satisfied: urllib3<3,>=1.21.1 in /usr/local/lib/python3.10/dist-packages (from requests) (2.2.3)\n",
            "Requirement already satisfied: certifi>=2017.4.17 in /usr/local/lib/python3.10/dist-packages (from requests) (2024.8.30)\n"
          ]
        }
      ]
    },
    {
      "cell_type": "code",
      "source": [
        "WOLFRAM_ALPHA_APP_ID = \"AYK4G9-GVHP263WHY\"\n"
      ],
      "metadata": {
        "id": "2zrAsYHFdHsU"
      },
      "execution_count": 6,
      "outputs": []
    },
    {
      "cell_type": "code",
      "source": [
        "import requests\n",
        "import wikipediaapi\n",
        "\n",
        "# Wolfram Alpha API configuration\n",
        "WOLFRAM_ALPHA_APP_ID = \"AYK4G9-GVHP263WHY\"  # Your Wolfram Alpha API key\n",
        "\n",
        "# Initialize Wikipedia API with a user agent\n",
        "wiki_wiki = wikipediaapi.Wikipedia(\n",
        "    user_agent='VirtualAssistant/1.0 (your_email@example.com)',  # Replace with your app name and contact email\n",
        "    language='en',\n",
        "    extract_format=wikipediaapi.ExtractFormat.WIKI\n",
        ")\n",
        "\n",
        "def query_wikipedia(query):\n",
        "    \"\"\"Fetch a summary from Wikipedia.\"\"\"\n",
        "    page = wiki_wiki.page(query)\n",
        "    if page.exists():\n",
        "        return page.summary\n",
        "    else:\n",
        "        return \"Sorry, I couldn't find any information on that topic.\"\n",
        "\n",
        "def query_wolfram_alpha(query):\n",
        "    \"\"\"Fetch an answer from Wolfram Alpha.\"\"\"\n",
        "    url = f\"http://api.wolframalpha.com/v2/query?input={query}&format=plaintext&output=JSON&appid={WOLFRAM_ALPHA_APP_ID}\"\n",
        "\n",
        "    response = requests.get(url)\n",
        "\n",
        "    if response.status_code == 200:\n",
        "        data = response.json()\n",
        "        pods = data['queryresult']['pods']\n",
        "        answers = []\n",
        "\n",
        "        for pod in pods:\n",
        "            if pod['title'] != \"Input interpretation\":\n",
        "                for subpod in pod['subpods']:\n",
        "                    answers.append(subpod['plaintext'])\n",
        "\n",
        "        return \"\\n\".join(answers) if answers else \"I couldn't find an answer.\"\n",
        "    else:\n",
        "        return \"Error fetching data from Wolfram Alpha.\"\n",
        "\n",
        "def virtual_assistant():\n",
        "    \"\"\"Main loop for the virtual assistant.\"\"\"\n",
        "    print(\"Welcome to the Virtual Assistant! You can ask me anything.\")\n",
        "    print(\"Type 'exit' to quit the assistant.\")\n",
        "\n",
        "    while True:\n",
        "        user_input = input(\"You: \")\n",
        "        if user_input.lower() == 'exit':\n",
        "            print(\"Goodbye!\")\n",
        "            break\n",
        "        elif user_input.startswith(\"wiki:\"):\n",
        "            topic = user_input[5:].strip()\n",
        "            print(\"Wikipedia Summary:\", query_wikipedia(topic))\n",
        "        else:\n",
        "            print(\"Wolfram Alpha Answer:\", query_wolfram_alpha(user_input))\n",
        "\n",
        "# Run the virtual assistant\n",
        "virtual_assistant()\n"
      ],
      "metadata": {
        "colab": {
          "base_uri": "https://localhost:8080/"
        },
        "id": "USVYq0DedMtT",
        "outputId": "0b6be08d-7f1a-4663-afef-ba3bd273c2b1"
      },
      "execution_count": 15,
      "outputs": [
        {
          "output_type": "stream",
          "name": "stdout",
          "text": [
            "Welcome to the Virtual Assistant! You can ask me anything.\n",
            "Type 'exit' to quit the assistant.\n",
            "You: hello\n",
            "Wolfram Alpha Answer: Hello, human.\n",
            "You: how are you\n",
            "Wolfram Alpha Answer: I am doing well, thank you.\n",
            "You: What is the speed of light\n",
            "Wolfram Alpha Answer: 2.998×10^8 m/s (meters per second)\n",
            "299792 km/s (kilometers per second)\n",
            "186282 mi/s (miles per second)\n",
            "6.706×10^8 mph (miles per hour)\n",
            " ≈ 2.4 × speed of light in diamond ( ≈ 1.24×10^8 m/s )\n",
            "speed\n",
            "[length] [time]^(-1)\n",
            "Time to travel 1 meter from t = d/v:\n",
            " | 3.3 ns (nanoseconds)\n",
            "Time to travel 1 kilometer from t = d/v:\n",
            " | 3.3 μs (microseconds)\n",
            "You: Tell me about Python Programming\n",
            "Wolfram Alpha Answer: language designers | Guido van Rossum\n",
            "date introduced | 1991 (33 years ago)\n",
            "official website | http://www.python.org/\n",
            "\n",
            "Python is a high-level, general-purpose programming language. Its design philosophy emphasizes code readability with the use of significant indentation.\n",
            "\n",
            "You: Tell me about Java Programming\n",
            "Wolfram Alpha Answer: language designers | James Gosling\n",
            "date introduced | 1995 (29 years ago)\n",
            "official website | http://www.java.com/\n",
            "\n",
            "Java is a high-level, class-based, object-oriented programming language that is designed to have as few implementation dependencies as possible. It is a general-purpose programming language intended to let programmers write once, run anywhere (WORA), meaning that compiled Java code can run on all platforms that support Java without the need to recompile. Java applications are typically compiled to bytecode that ...\n",
            "\n",
            "You: Tell me about C Programming\n",
            "Wolfram Alpha Answer: language designers | Dennis Ritchie\n",
            "date introduced | 1972 (52 years ago)\n",
            "C is a general-purpose programming language. It was created in the 1970s by Dennis Ritchie and remains very widely used and influential. By design, C's features cleanly reflect the capabilities of the targeted CPUs. It has found lasting use in operating systems code (especially in kernels), device drivers, and protocol stacks, but its use in application software has been decreasing. ...\n",
            "\n",
            "You: exit\n",
            "Goodbye!\n"
          ]
        }
      ]
    }
  ],
  "metadata": {
    "colab": {
      "provenance": [],
      "authorship_tag": "ABX9TyPkXFFimiuiUHKwlBcup0MJ",
      "include_colab_link": true
    },
    "kernelspec": {
      "display_name": "Python 3",
      "name": "python3"
    },
    "language_info": {
      "name": "python"
    }
  },
  "nbformat": 4,
  "nbformat_minor": 0
}